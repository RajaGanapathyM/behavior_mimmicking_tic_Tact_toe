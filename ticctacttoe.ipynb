{
 "cells": [
  {
   "cell_type": "code",
   "execution_count": null,
   "metadata": {
    "collapsed": true
   },
   "outputs": [],
   "source": [
    "import numpy as np\n",
    "import tensorflow as tf"
   ]
  },
  {
   "cell_type": "code",
   "execution_count": 2,
   "metadata": {
    "collapsed": true
   },
   "outputs": [],
   "source": [
    "from IPython.display import clear_output"
   ]
  },
  {
   "cell_type": "code",
   "execution_count": 3,
   "metadata": {
    "collapsed": true
   },
   "outputs": [],
   "source": [
    "file_name=\"ses.ckpt\"\n",
    "file_path=\"./model_files/\"\n",
    "model_file_path=file_path+file_name"
   ]
  },
  {
   "cell_type": "code",
   "execution_count": 4,
   "metadata": {
    "collapsed": true
   },
   "outputs": [],
   "source": [
    "combinations=[\n",
    "    [(0,0),(0,1),(0,2)],[(1,0),(1,1),(1,2)],[(2,0),(2,1),(2,2)],\n",
    "    [(0,0),(1,0),(2,0)],[(0,1),(1,1),(2,1)],[(0,2),(1,2),(2,2)],\n",
    "    [(0,0),(1,1),(2,2)],[(0,2),(1,1),(2,0)]\n",
    "]"
   ]
  },
  {
   "cell_type": "code",
   "execution_count": 5,
   "metadata": {
    "collapsed": true
   },
   "outputs": [],
   "source": [
    "def get_state(playfield):\n",
    "    dominance=0\n",
    "    for each_comb in combinations:\n",
    "        advantage=0\n",
    "        for each in each_comb:\n",
    "            advantage+=playfield[each[0],each[1]]\n",
    "            if abs(advantage)==3:\n",
    "                return advantage\n",
    "    return 0"
   ]
  },
  {
   "cell_type": "code",
   "execution_count": 6,
   "metadata": {
    "collapsed": true
   },
   "outputs": [],
   "source": [
    "def get_dominance(playfield):\n",
    "    dominance=0\n",
    "    for each_comb in combinations:\n",
    "        advantage=0\n",
    "        for each in each_comb:\n",
    "            advantage+=playfield[each[0],each[1]]\n",
    "        if advantage==2:\n",
    "            dominance+=1\n",
    "    return dominance"
   ]
  },
  {
   "cell_type": "code",
   "execution_count": 7,
   "metadata": {
    "collapsed": true
   },
   "outputs": [],
   "source": [
    "t_1= tf.placeholder(tf.float32, (3,3))\n",
    "t= tf.placeholder(tf.float32, (3,3))\n",
    "bias_1=tf.Variable(tf.truncated_normal([20], dtype=tf.float32))\n",
    "bias_2=tf.Variable(tf.truncated_normal([1], dtype=tf.float32))\n",
    "t_playfield = tf.convert_to_tensor(t, np.float32)\n",
    "t_playfield_previous = tf.convert_to_tensor(t_1, np.float32)\n",
    "\n",
    "t_playfield=tf.reshape(t_playfield,[1,3,3,1])\n",
    "t_playfield_previous=tf.reshape(t_playfield_previous,[1,3,3,1])"
   ]
  },
  {
   "cell_type": "code",
   "execution_count": 8,
   "metadata": {
    "collapsed": true
   },
   "outputs": [],
   "source": [
    "hidden_layer_1=tf.nn.bias_add(tf.layers.conv2d(t_playfield_previous,20,2,strides=(1,1),padding=\"SAME\"),bias_1)\n",
    "hidden_layer=tf.tanh(tf.nn.bias_add(tf.layers.conv2d(hidden_layer_1,1,2,strides=(1,1)),bias_2))\n",
    "predicted=tf.layers.conv2d_transpose(hidden_layer,1,2,strides=(1,1))"
   ]
  },
  {
   "cell_type": "code",
   "execution_count": 9,
   "metadata": {
    "collapsed": true
   },
   "outputs": [],
   "source": [
    "loss=tf.losses.mean_squared_error(t_playfield,predicted)\n",
    "#train_op = tf.train.RMSPropOptimizer(learning_rate=0.01).minimize(loss)\n",
    "train_op = tf.train.AdamOptimizer(learning_rate=0.1).minimize(loss)"
   ]
  },
  {
   "cell_type": "code",
   "execution_count": null,
   "metadata": {},
   "outputs": [],
   "source": [
    "init = tf.global_variables_initializer()\n",
    "playfield=np.zeros((3,3))\n",
    "playfield_previous=np.zeros((3,3))\n",
    "saver = tf.train.Saver()\n",
    "flak=0\n",
    "sess=tf.Session()\n",
    "sess.run(init)\n",
    "saver.restore(sess, model_file_path)\n",
    "def make_train(train_mode,playfield_previous,playfield,turn):\n",
    "    global sess,saver\n",
    "    pred=\"\"\n",
    "    if train_mode==1:\n",
    "        _, ls,pred = sess.run([train_op, loss,predicted], feed_dict={t_1: -1*turn*playfield_previous,t:-1*turn*playfield})\n",
    "    elif train_mode==0:\n",
    "        pred = sess.run([predicted], feed_dict={t_1: -1*turn*playfield_previous,t:-1*turn*playfield})\n",
    "    save_path = saver.save(sess, model_file_path)\n",
    "    return pred\n",
    "\n",
    "turn=1\n",
    "iter=0\n",
    "\n",
    "buttons=[]\n",
    "count=0\n",
    "def update_btn(ind):\n",
    "    global playfield_old,playfield_previous,playfield,iter,buttons,flak\n",
    "    turn=1\n",
    "    for k in range(0,3):\n",
    "        try:\n",
    "            x=0\n",
    "            y=0\n",
    "            iter+=1\n",
    "            playfield_old=playfield_previous.copy()\n",
    "            playfield_previous=playfield.copy()\n",
    "            if turn==1:\n",
    "                #print(\"Raja TUrn\")\n",
    "                turn=-1\n",
    "            else:\n",
    "                if turn==-2:\n",
    "                    turn=-1\n",
    "                    ctypes.windll.user32.MessageBoxW(0, \"I WON last game.So I play First move...\", \"Ai.apply/TIC TAC TOE\", 1)\n",
    "                    print(\"AI Initiated new Game...Your Turn\")\n",
    "                    flak=1\n",
    "                #print(\"Opp Turn\")\n",
    "                turn=1\n",
    "            if turn==-1:\n",
    "                x=int(float(ind)/3.0)\n",
    "                y=int(ind)%3\n",
    "                nzx,nzy=(playfield==0).nonzero()\n",
    "                nxy=zip(nzx,nzy)\n",
    "                if (x,y) not in nxy:\n",
    "                    print(\"Position already Marked.Enter Correct Position\")\n",
    "                    iter-=1\n",
    "                    turn=1\n",
    "                    playfield_previous=playfield_old.copy()\n",
    "                    break\n",
    "                playfield[x,y]=1\n",
    "                \n",
    "                buttons[ind].config(text=\"X\")\n",
    "                pred = make_train(1,playfield_previous,playfield,turn)\n",
    "                pred=np.reshape(pred,[3,3])\n",
    "                #print(\"LOSS\",ls)\n",
    "            else:\n",
    "                pred = make_train(0,playfield_previous,playfield,turn)\n",
    "                pred=np.reshape(pred,[3,3])\n",
    "                nzx,nzy=(playfield==0).nonzero()\n",
    "                best=-1000\n",
    "                g2=0\n",
    "                si=-5\n",
    "                sj=-5\n",
    "                for i,j in zip(nzx,nzy):\n",
    "                    if pred[i,j]>best:\n",
    "                        si=i\n",
    "                        sj=j\n",
    "                        g2=1\n",
    "                        best=pred[i,j]\n",
    "                if g2==0:\n",
    "                    playfield[nzx[0],nzy[0]]=-1\n",
    "                    buttons[(3*nzx[0])+nzy[0]].config(text=\"O\")\n",
    "                else:\n",
    "                    playfield[si,sj]=-1                \n",
    "                    buttons[(3*si)+sj].config(text=\"O\")\n",
    "                    \n",
    "            if flak==0:\n",
    "                clear_output()\n",
    "            else:\n",
    "                flak=0\n",
    "            #print(\"Previou State\")\n",
    "            #print(playfield_previous)\n",
    "            print(\"Current State\")\n",
    "            print(playfield)\n",
    "            print(\"Predicted\")\n",
    "            print(pred)\n",
    "            #print(\"Predicted_current_State\")\n",
    "            #print(-1*turn*np.reshape(pred,[3,3]))\n",
    "            #print(\"Loss\",ls)        \n",
    "            f=get_state(playfield)\n",
    "            if iter==9 or len(np.nonzero(playfield))==0 or f==-3 or f==3:  \n",
    "                turn=1\n",
    "                if f==3:\n",
    "                    playfield=playfield_old.copy()\n",
    "                    playfield_previous=playfield_old.copy()\n",
    "                    playfield[x,y]=-1                \n",
    "                    buttons[ind].config(text=\"X\")\n",
    "                    #print(\"Retro training...\")\n",
    "                    #print(-1*turn*playfield_previous)\n",
    "                    #print(-1*turn*playfield)\n",
    "                    pred = make_train(1,playfield_previous,playfield,turn)  \n",
    "                    pred=np.reshape(pred,[3,3])\n",
    "                    ctypes.windll.user32.MessageBoxW(0, \"You WON\", \"Ai.apply/TIC TAC TOE\", 1)\n",
    "                    #print(\"LOSS\",ls)\n",
    "                    turn=1\n",
    "                elif f==-3:\n",
    "                    #buttons[ind].config(text=\"O\")                    \n",
    "                    pred = make_train(1,playfield_previous,playfield,turn)\n",
    "                    ctypes.windll.user32.MessageBoxW(0, \"I WON...\", \"Ai.apply/TIC TAC TOE\", 1)\n",
    "                    turn=-2                \n",
    "\n",
    "                ctypes.windll.user32.MessageBoxW(0, \"New Game Started...\", \"Ai.apply/TIC TAC TOE\", 1)\n",
    "                playfield=np.zeros((3,3))\n",
    "                playfield_previous=np.zeros((3,3))\n",
    "                for each_btn in buttons:\n",
    "                    each_btn.config(text=\"-\")\n",
    "                iter=0\n",
    "                if f!=-3:\n",
    "                    break\n",
    "        except Exception as e:\n",
    "            print(str(e))\n",
    "            ctypes.windll.user32.MessageBoxW(0, \"Some error happened. Restarting Game..\".format(str(e)), \"Ai.apply/TIC TAC TOE\", 1)\n",
    "            playfield=np.zeros((3,3))\n",
    "            playfield_previous=np.zeros((3,3))\n",
    "            for each_btn in buttons:\n",
    "                each_btn.config(text=\"-\")\n",
    "            turn=1\n",
    "            iter=0"
   ]
  },
  {
   "cell_type": "code",
   "execution_count": null,
   "metadata": {
    "collapsed": true
   },
   "outputs": [],
   "source": [
    "def start_game():\n",
    "    helv36 =  font.Font(family='Helvetica', size=20, weight='bold')\n",
    "    buttons.append(Button(text=\"-\",fg=\"red\",font=helv36, height = 5, width = 10,command=lambda: update_btn(0)))\n",
    "    buttons[0].grid(row=0,column=0)\n",
    "    buttons[0].config()\n",
    "    buttons.append(Button(text=\"-\",fg=\"red\",font=helv36, height = 5, width = 10,command=lambda: update_btn(1)))\n",
    "    buttons[1].grid(row=0,column=1)\n",
    "    buttons[1].config()\n",
    "    buttons.append(Button(text=\"-\",fg=\"red\",font=helv36, height = 5, width = 10,command=lambda: update_btn(2)))\n",
    "    buttons[2].grid(row=0,column=2)\n",
    "    buttons[2].config()\n",
    "\n",
    "\n",
    "\n",
    "    buttons.append(Button(text=\"-\",fg=\"red\", font=helv36,height = 5, width = 10,command=lambda: update_btn(3)))\n",
    "    buttons[3].grid(row=1,column=0)\n",
    "    buttons[3].config()\n",
    "    buttons.append(Button(text=\"-\",fg=\"red\", font=helv36,height = 5, width = 10,command=lambda: update_btn(4)))\n",
    "    buttons[4].grid(row=1,column=1)\n",
    "    buttons[4].config()\n",
    "    buttons.append(Button(text=\"-\",fg=\"red\", font=helv36,height = 5, width = 10,command=lambda: update_btn(5)))\n",
    "    buttons[5].grid(row=1,column=2)\n",
    "    buttons[5].config()\n",
    "\n",
    "    buttons.append(Button(text=\"-\",fg=\"red\", font=helv36,height = 5, width = 10,command=lambda: update_btn(6)))\n",
    "    buttons[6].grid(row=2,column=0)\n",
    "    buttons[6].config()\n",
    "    buttons.append(Button(text=\"-\",fg=\"red\", font=helv36,height = 5, width = 10,command=lambda: update_btn(7)))\n",
    "    buttons[7].grid(row=2,column=1)\n",
    "    buttons[7].config()\n",
    "    buttons.append(Button(text=\"-\",fg=\"red\", font=helv36,height = 5, width = 10,command=lambda: update_btn(8)))\n",
    "    buttons[8].grid(row=2,column=2)\n",
    "    buttons[8].config()\n",
    "\n",
    "    mainloop()"
   ]
  },
  {
   "cell_type": "code",
   "execution_count": null,
   "metadata": {
    "collapsed": true
   },
   "outputs": [],
   "source": [
    "from tkinter import *\n",
    "from tkinter import font\n",
    "import ctypes\n",
    "root = Tk()\n",
    "root.title(\"aI.apply/Tic Tac Toe\")\n",
    "start_game()"
   ]
  },
  {
   "cell_type": "code",
   "execution_count": null,
   "metadata": {
    "collapsed": true
   },
   "outputs": [],
   "source": [
    "save_path = saver.save(sess, model_file_path)"
   ]
  }
 ],
 "metadata": {
  "kernelspec": {
   "display_name": "Python 3",
   "language": "python",
   "name": "python3"
  },
  "language_info": {
   "codemirror_mode": {
    "name": "ipython",
    "version": 3
   },
   "file_extension": ".py",
   "mimetype": "text/x-python",
   "name": "python",
   "nbconvert_exporter": "python",
   "pygments_lexer": "ipython3",
   "version": "3.6.1"
  }
 },
 "nbformat": 4,
 "nbformat_minor": 2
}
